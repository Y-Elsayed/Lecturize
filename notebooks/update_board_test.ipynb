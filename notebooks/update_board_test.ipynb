{
 "cells": [
  {
   "cell_type": "code",
   "execution_count": null,
   "id": "7ee95820",
   "metadata": {},
   "outputs": [],
   "source": [
    "import numpy as np"
   ]
  },
  {
   "cell_type": "code",
   "execution_count": null,
   "id": "a34ee45b",
   "metadata": {},
   "outputs": [],
   "source": [
    "# with mask\n",
    "def update_board(board, frame, mask):\n",
    "    # Invert mask: 1 = board region, 0 = professor region\n",
    "    inv_mask = 1 - mask # assuming the professor comes as 1 in the mask\n",
    "\n",
    "    # If images are RGB (3 channels), expand dims to apply mask on each channel\n",
    "    if len(frame.shape) == 3:\n",
    "        inv_mask = np.repeat(inv_mask[:, :, np.newaxis], 3, axis=2)\n",
    "\n",
    "    # Only update board where professor is NOT present\n",
    "    updated_board = (board * mask[:, :, np.newaxis]) + (frame * inv_mask)\n",
    "    return updated_board.astype(np.uint8)\n"
   ]
  },
  {
   "cell_type": "code",
   "execution_count": null,
   "id": "27b22c5c",
   "metadata": {},
   "outputs": [],
   "source": [
    "# with bouding box\n",
    "\n",
    "def update_board(old_frame, new_frame, bbox):\n",
    "    # unpack bbox\n",
    "    x1,y1,x2,y2 = bbox\n",
    "    mask = np.zeros(old_frame.shape[:2], dtype=np.uint8)\n",
    "    mask[y1:y2, x1:x2] = 1 # create mask for the bounding box\n",
    "    if len(new_frame.shape) == 3:\n",
    "        inv_mask = np.repeat(inv_mask[:, :, np.newaxis], 3, axis=2)\n",
    "\n",
    "    updated_board = (old_frame * mask[:,:, np.newaxis]) + (new_frame * (1 - mask[:, :, np.newaxis]))\n",
    "    return updated_board.astype(np.uint8)\n",
    "\n"
   ]
  }
 ],
 "metadata": {
  "kernelspec": {
   "display_name": "Python 3",
   "language": "python",
   "name": "python3"
  },
  "language_info": {
   "name": "python",
   "version": "3.10.0"
  }
 },
 "nbformat": 4,
 "nbformat_minor": 5
}
